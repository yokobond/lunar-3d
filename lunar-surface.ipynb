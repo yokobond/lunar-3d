{
 "cells": [
  {
   "cell_type": "markdown",
   "metadata": {},
   "source": [
    "まず、月の標高データをダウンロードして、ローカルフォルダに保存します。\n",
    "\n",
    "月の標高データはNASAが観測したデータを利用しやすいように加工して、誰でも利用できるように公開しています。\n",
    "ここでは、[Moon LRO LOLA DEM 118m](https://astrogeology.usgs.gov/search/map/moon_lro_lola_dem_118m) を利用しました。\n",
    "このデータはNASAの月探査機ルナー・リコネッサンス・オービター（LRO）搭載の月レーザー高度計（LOLA）のデータに基づいたデジタル標高モデル（DEM）です。\n",
    "このレーザー高度計は高性能で、真下を測るときには1m以下、水平でも20m以下の誤差で測ることができます。\n",
    "\n",
    "このデータは月を半径1737.4kmの球体として、周りを包むように置いた円筒に投影して開いた平面のピクセルデータになっています。\n",
    "1ピクセルが118m(赤道付近)の細かさで標高モデルが作られて、観測されていない部分のデータは周りのデータから補完されています。\n",
    "全球のデータがもれなく均質にそろっている使いやすいデータです。\n",
    "\n",
    "ただし、データの量も8GBと、少し大きめなので、ダウンロードには時間がかかり、データ処理をするPCにも相応の量のメモリが必要となります。"
   ]
  },
  {
   "cell_type": "markdown",
   "metadata": {},
   "source": [
    "進行状況を見ながらダウンロードできるユーティリティ関数を用意しましたので、これを利用してダウンロードしてください。"
   ]
  },
  {
   "cell_type": "code",
   "execution_count": 3,
   "metadata": {},
   "outputs": [],
   "source": [
    "\n",
    "import requests\n",
    "from tqdm import tqdm\n",
    "\n",
    "def download_with_progress(url, filename):\n",
    "    \"\"\"Download file with progress bar\"\"\"\n",
    "    response = requests.get(url, stream=True)\n",
    "    total_size = int(response.headers.get('content-length', 0))\n",
    "    \n",
    "    with open(filename, 'wb') as f, tqdm(\n",
    "        desc=filename,\n",
    "        total=total_size,\n",
    "        unit='iB',\n",
    "        unit_scale=True\n",
    "    ) as pbar:\n",
    "        for data in response.iter_content(chunk_size=1024):\n",
    "            size = f.write(data)\n",
    "            pbar.update(size)"
   ]
  },
  {
   "cell_type": "markdown",
   "metadata": {},
   "source": [
    "月面の標高データのURLと、それを保存するファイル名を指定して、ダウンロードを行います。\n",
    "(すでにローカルフォルダにダウンロードしたデータがあれば、ダウンロードしません。)"
   ]
  },
  {
   "cell_type": "code",
   "execution_count": 4,
   "metadata": {},
   "outputs": [
    {
     "name": "stdout",
     "output_type": "stream",
     "text": [
      "Data already downloaded.\n"
     ]
    }
   ],
   "source": [
    "import os\n",
    "\n",
    "lunar_dem_url = \"https://planetarymaps.usgs.gov/mosaic/Lunar_LRO_LOLA_Global_LDEM_118m_Mar2014.tif\"\n",
    "lunar_dem_file = os.path.join(os.getcwd(), 'data', os.path.basename(lunar_dem_url))\n",
    "lunar_dem_file\n",
    "\n",
    "# Download DEM file\n",
    "if os.path.exists(lunar_dem_file):\n",
    "    print(\"Data already downloaded.\")\n",
    "else:\n",
    "    print(\"Downloading data...\")\n",
    "    download_with_progress(lunar_dem_url, lunar_dem_file)"
   ]
  },
  {
   "cell_type": "markdown",
   "metadata": {},
   "source": [
    "[Rasterio](https://github.com/rasterio/rasterio) を使用して月の標高モデルファイルを読み込みます。\n",
    "\n",
    "Rasterio は、地形のラスタデータを読み書きするためのPythonパッケージです。ここで使う月面DEMのGeoTiffデータを読み込んで、そこに含まれるメタデータなどを利用できます。"
   ]
  },
  {
   "cell_type": "code",
   "execution_count": 5,
   "metadata": {},
   "outputs": [
    {
     "name": "stdout",
     "output_type": "stream",
     "text": [
      "{'driver': 'GTiff',\n",
      " 'dtype': 'int16',\n",
      " 'nodata': -32768.0,\n",
      " 'width': 92160,\n",
      " 'height': 46080,\n",
      " 'count': 1,\n",
      " 'crs': CRS.from_wkt('PROJCS[\"SimpleCylindrical Moon\",GEOGCS[\"GCS_Moon\",DATUM[\"D_Moon\",SPHEROID[\"Moon\",1737400,0]],PRIMEM[\"Reference_Meridian\",0],UNIT[\"degree\",0.0174532925199433,AUTHORITY[\"EPSG\",\"9122\"]]],PROJECTION[\"Equirectangular\"],PARAMETER[\"standard_parallel_1\",0],PARAMETER[\"central_meridian\",0],PARAMETER[\"false_easting\",0],PARAMETER[\"false_northing\",0],UNIT[\"metre\",1,AUTHORITY[\"EPSG\",\"9001\"]],AXIS[\"Easting\",EAST],AXIS[\"Northing\",NORTH]]'),\n",
      " 'transform': Affine(118.4505876, 0.0, -5458203.076608,\n",
      "       0.0, -118.4505876, 2729101.538304)}\n"
     ]
    }
   ],
   "source": [
    "import rasterio\n",
    "import pprint\n",
    "\n",
    "lunar_dem_dataset = rasterio.open(lunar_dem_file)\n",
    "\n",
    "# Display metadata\n",
    "pprint.pp(lunar_dem_dataset.meta)"
   ]
  },
  {
   "cell_type": "markdown",
   "metadata": {},
   "source": [
    "読み込んだ月面DEMのデータを3Dモデルへ変換します。\n",
    "\n",
    "月面DEMは標準半径の球面からの差分の値で記録されているので、基準の球面に凹凸をつけることで月面の地形を表現できます。\n",
    "\n",
    "そのためにまず、3Dモデル処理パッケージの PyVista で月の平均半径（1,737,400メートル）の球（Sphere）のメッシュモデルを作成します。\n",
    "次に、その球形のメッシュを構成する各点を月面DEMの標高データにしたがって移動してから、出力するモデルの大きさに縮小して新しいメッシュをつくります。\n",
    "\n",
    "ここで、月面DEMの標高データをそのままの尺度で利用してしまうと、小さな立体モデルをつくったときにクレーターなどの盛り上がりが低すぎてよく見えません。\n",
    "そこで、メッシュを変形させるときに変形の度合いを強くすることで、地形を強調できるようにしています。"
   ]
  },
  {
   "cell_type": "code",
   "execution_count": 6,
   "metadata": {},
   "outputs": [],
   "source": [
    "import numpy as np\n",
    "import math\n",
    "import pyvista as pv\n",
    "from rasterio.transform import rowcol\n",
    "\n",
    "def map_data_on_sphere(data, transform, nodata, radius, lon_res, lat_res, data_scale, model_radius):\n",
    "    \n",
    "    # 与えられた解像度で球体を作成\n",
    "    sphere = pv.Sphere(radius=radius, theta_resolution=lon_res, phi_resolution=lat_res)\n",
    "\n",
    "    # 出力するモデルのスケールを計算\n",
    "    model_scale = model_radius / radius\n",
    "    \n",
    "    # 球体の点からデータを取得し、データに従って出力モデルの点を変更\n",
    "    points = sphere.points.copy()\n",
    "    new_points = points.copy()\n",
    "    \n",
    "    for i, pt in enumerate(points):\n",
    "        x, y, z = pt\n",
    "        r = np.linalg.norm(pt) # 球体の中心(原点)からの距離を計算\n",
    "        if r == 0:\n",
    "            continue\n",
    "\n",
    "        # 球体の表面の点に対応する地理座標(緯度、経度)を計算\n",
    "        lat_deg = math.degrees(math.asin(z / r))\n",
    "        lon_deg = math.degrees(math.atan2(y, x))\n",
    "\n",
    "        # 地理座標(緯度、経度)[度]を投影座標系(x, y)[m]に変換\n",
    "        # 単純な円筒投影を仮定している\n",
    "        x_proj = radius * math.radians(lon_deg)\n",
    "        y_proj = radius * math.radians(lat_deg)\n",
    "        \n",
    "        # 球体の表面の点に対応するデータの値を取得\n",
    "        try:\n",
    "            row, col = rowcol(transform, x_proj, y_proj)\n",
    "            elev = data[row, col]\n",
    "            if elev == nodata:\n",
    "                elev = 0\n",
    "        except Exception:\n",
    "            elev = 0\n",
    "        \n",
    "        # データに従って出力モデルの点を計算する\n",
    "        new_r = r + elev * data_scale # 元の半径にデータの値を加える\n",
    "        factor = new_r / r # 元の半径と変異した半径との比率\n",
    "        new_points[i] = pt * factor * model_scale # 元の球体の点の座標と変異率で計算した出力モデルの点\n",
    "    \n",
    "    # 出力モデルの点を更新\n",
    "    sphere.points = new_points\n",
    "    return sphere\n"
   ]
  },
  {
   "cell_type": "markdown",
   "metadata": {},
   "source": [
    "関数 map_data_on_sphere() の動作内容を日本語で解説するとこうなります。\n",
    "\n",
    "- 関数は引数として、標高に換算するデータセット、経度・緯度の解像度（メッシュの細かさを決める）、および標高の効果を調整するスケール係数を受け取ります。\n",
    "\n",
    "- PyVista により球（Sphere）メッシュを作成します。ここで、theta_resolution と phi_resolution によって緯度・経度方向の細分化を行います。\n",
    "\n",
    "- 鏡面上の各点（球の各頂点）は、まずデカルト座標 (x, y, z) から球面座標へ変換され、ここから緯度（lat_deg）と経度（lon_deg）を求めます。この際、asin と atan2 を用いて度に変換します。\n",
    "\n",
    "- 次に、簡易的な円筒射影に基づき、緯度・経度（度単位）を投影座標（メートル単位）に変換します。具体的には、x_proj = radius * radians(lon_deg)、y_proj = radius * radians(lat_deg) として計算されます。\n",
    "\n",
    "- 得られた投影座標から、Rasterio の rowcol 関数を用いて、DEMの対応する画素（行・列）を取得します。もし読み取られた画素が nodata に該当する場合は、高度（elev）を 0 とします。\n",
    "\n",
    "- 取得した標高値と引数 data_scale により、各点の半径を調整します。具体的には、新たな半径 new_r = 元の半径 + (elev * data_scale) と計算し、元の点に対してスケールファクター（new_r / r）を掛けることで、点の位置を変更します。\n",
    "\n",
    "- 最後に、全ての頂点の位置を更新した球メッシュを返します。この球メッシュは、与えられたデータ(標高)に応じて変形（盛り上がったり凹んだり）しているため、地形を表現した3Dモデルとなります。"
   ]
  },
  {
   "cell_type": "markdown",
   "metadata": {},
   "source": [
    "この関数を使って、3Dプリントに適した解像度や地形の強調度合いに調整して3Dモデルをつくります。"
   ]
  },
  {
   "cell_type": "code",
   "execution_count": 7,
   "metadata": {},
   "outputs": [],
   "source": [
    "longitude_resolution = 360 * 4 # 経度方向の解像度\n",
    "latitude_resolution = 180 * 4  # 緯度方向の解像度\n",
    "data_scale = 4.0  # DEMの効果を誇張するために調整\n",
    "model_radius = 50 # 出力モデルの半径[mm]\n",
    "\n",
    "# 球体にデータをマッピングする\n",
    "lunar_dem_sphere = map_data_on_sphere(\n",
    "    data=lunar_dem_dataset.read(1),\n",
    "    transform=lunar_dem_dataset.transform,\n",
    "    nodata=lunar_dem_dataset.nodata,\n",
    "    radius=1737400, # 月の平均半径[mm]\n",
    "    lon_res=longitude_resolution,\n",
    "    lat_res=latitude_resolution,\n",
    "    data_scale=data_scale,\n",
    "    model_radius=model_radius)\n"
   ]
  },
  {
   "cell_type": "markdown",
   "metadata": {},
   "source": [
    "できた3Dモデルを表示してみます。"
   ]
  },
  {
   "cell_type": "code",
   "execution_count": 8,
   "metadata": {},
   "outputs": [
    {
     "data": {
      "application/vnd.jupyter.widget-view+json": {
       "model_id": "70ea31d334654055ba10077fdd35ba69",
       "version_major": 2,
       "version_minor": 0
      },
      "text/plain": [
       "Widget(value='<iframe src=\"http://localhost:55186/index.html?ui=P_0x13c33bbc0_0&reconnect=auto\" class=\"pyvista…"
      ]
     },
     "metadata": {},
     "output_type": "display_data"
    }
   ],
   "source": [
    "plotter = pv.Plotter()\n",
    "plotter.add_mesh(lunar_dem_sphere, show_edges=False, color=\"white\")\n",
    "plotter.add_title(\"Lunar DEM\\nres={} x {}, scale={}\".format(longitude_resolution, latitude_resolution, data_scale))\n",
    "plotter.show()"
   ]
  },
  {
   "cell_type": "markdown",
   "metadata": {},
   "source": [
    "```\n",
    "longitude_resolution = 360 * 4\n",
    "latitude_resolution = 180 * 4\n",
    "```\n",
    "\n",
    "この解像度で球体を作ると、点の数が100万個ほどになります。これは10cmくらいの3Dプリントとして出力するには多すぎます。\n",
    "\n",
    "元の球体のメッシュは均一な大きさで作られているので、平坦な地形に見られる不必要に細かいメッシュを間引きします。\n",
    "\n",
    "PyVistaには間引き方法が2種類用意されているので、それぞれの結果を3D表示して比較して、どれを利用するかを決めましょう。"
   ]
  },
  {
   "cell_type": "markdown",
   "metadata": {},
   "source": [
    "元の月の表面データの値"
   ]
  },
  {
   "cell_type": "code",
   "execution_count": 9,
   "metadata": {},
   "outputs": [
    {
     "data": {
      "text/html": [
       "<table style='width: 100%;'><tr><th>Header</th><th>Data Arrays</th></tr><tr><td>\n",
       "<table style='width: 100%;'>\n",
       "<tr><th>PolyData</th><th>Information</th></tr>\n",
       "<tr><td>N Cells</td><td>2067840</td></tr>\n",
       "<tr><td>N Points</td><td>1033922</td></tr>\n",
       "<tr><td>N Strips</td><td>0</td></tr>\n",
       "<tr><td>X Bounds</td><td>-5.114e+01, 5.025e+01</td></tr>\n",
       "<tr><td>Y Bounds</td><td>-5.103e+01, 5.032e+01</td></tr>\n",
       "<tr><td>Z Bounds</td><td>-5.139e+01, 5.030e+01</td></tr>\n",
       "<tr><td>N Arrays</td><td>1</td></tr>\n",
       "</table>\n",
       "\n",
       "</td><td>\n",
       "<table style='width: 100%;'>\n",
       "<tr><th>Name</th><th>Field</th><th>Type</th><th>N Comp</th><th>Min</th><th>Max</th></tr>\n",
       "<tr><td>Normals</td><td>Points</td><td>float32</td><td>3</td><td>-1.000e+00</td><td>1.000e+00</td></tr>\n",
       "</table>\n",
       "\n",
       "</td></tr> </table>"
      ],
      "text/plain": [
       "PolyData (0x13c32b4c0)\n",
       "  N Cells:    2067840\n",
       "  N Points:   1033922\n",
       "  N Strips:   0\n",
       "  X Bounds:   -5.114e+01, 5.025e+01\n",
       "  Y Bounds:   -5.103e+01, 5.032e+01\n",
       "  Z Bounds:   -5.139e+01, 5.030e+01\n",
       "  N Arrays:   1"
      ]
     },
     "execution_count": 9,
     "metadata": {},
     "output_type": "execute_result"
    }
   ],
   "source": [
    "lunar_dem_sphere"
   ]
  },
  {
   "cell_type": "markdown",
   "metadata": {},
   "source": [
    "元のメッシュデータを [pyvista.PolyDataFilters.decimate()](https://pyvista.github.io/pyvista-docs-dev-ja/api/core/_autosummary/pyvista.PolyDataFilters.decimate.html#pyvista.PolyDataFilters.decimate) を使って間引きします。"
   ]
  },
  {
   "cell_type": "code",
   "execution_count": 10,
   "metadata": {},
   "outputs": [
    {
     "name": "stdout",
     "output_type": "stream",
     "text": [
      "Reducing 90.0 percent out of the original mesh\n"
     ]
    },
    {
     "data": {
      "text/html": [
       "\n",
       "<table style='width: 100%;'>\n",
       "<tr><th>PolyData</th><th>Information</th></tr>\n",
       "<tr><td>N Cells</td><td>206784</td></tr>\n",
       "<tr><td>N Points</td><td>103445</td></tr>\n",
       "<tr><td>N Strips</td><td>0</td></tr>\n",
       "<tr><td>X Bounds</td><td>-5.105e+01, 5.017e+01</td></tr>\n",
       "<tr><td>Y Bounds</td><td>-5.101e+01, 5.031e+01</td></tr>\n",
       "<tr><td>Z Bounds</td><td>-5.139e+01, 5.029e+01</td></tr>\n",
       "<tr><td>N Arrays</td><td>0</td></tr>\n",
       "</table>\n",
       "\n"
      ],
      "text/plain": [
       "PolyData (0x301822020)\n",
       "  N Cells:    206784\n",
       "  N Points:   103445\n",
       "  N Strips:   0\n",
       "  X Bounds:   -5.105e+01, 5.017e+01\n",
       "  Y Bounds:   -5.101e+01, 5.031e+01\n",
       "  Z Bounds:   -5.139e+01, 5.029e+01\n",
       "  N Arrays:   0"
      ]
     },
     "execution_count": 10,
     "metadata": {},
     "output_type": "execute_result"
    }
   ],
   "source": [
    "target_reduction = 0.90\n",
    "print(f\"Reducing {target_reduction * 100.0} percent out of the original mesh\")\n",
    "decimated = lunar_dem_sphere.decimate(target_reduction)\n",
    "decimated"
   ]
  },
  {
   "cell_type": "markdown",
   "metadata": {},
   "source": [
    "元のメッシュデータを [pyvista.PolyDataFilters.decimate_pro()](https://pyvista.github.io/pyvista-docs-dev-ja/api/core/_autosummary/pyvista.PolyDataFilters.decimate_pro.html#pyvista.PolyDataFilters.decimate_pro) を使って間引きします。"
   ]
  },
  {
   "cell_type": "code",
   "execution_count": 11,
   "metadata": {},
   "outputs": [
    {
     "name": "stdout",
     "output_type": "stream",
     "text": [
      "Reducing 90.0 percent out of the original mesh\n"
     ]
    },
    {
     "data": {
      "text/html": [
       "<table style='width: 100%;'><tr><th>Header</th><th>Data Arrays</th></tr><tr><td>\n",
       "<table style='width: 100%;'>\n",
       "<tr><th>PolyData</th><th>Information</th></tr>\n",
       "<tr><td>N Cells</td><td>269524</td></tr>\n",
       "<tr><td>N Points</td><td>134764</td></tr>\n",
       "<tr><td>N Strips</td><td>0</td></tr>\n",
       "<tr><td>X Bounds</td><td>-5.114e+01, 5.025e+01</td></tr>\n",
       "<tr><td>Y Bounds</td><td>-5.103e+01, 5.032e+01</td></tr>\n",
       "<tr><td>Z Bounds</td><td>-5.139e+01, 5.030e+01</td></tr>\n",
       "<tr><td>N Arrays</td><td>1</td></tr>\n",
       "</table>\n",
       "\n",
       "</td><td>\n",
       "<table style='width: 100%;'>\n",
       "<tr><th>Name</th><th>Field</th><th>Type</th><th>N Comp</th><th>Min</th><th>Max</th></tr>\n",
       "<tr><td>Normals</td><td>Points</td><td>float32</td><td>3</td><td>-1.000e+00</td><td>1.000e+00</td></tr>\n",
       "</table>\n",
       "\n",
       "</td></tr> </table>"
      ],
      "text/plain": [
       "PolyData (0x301821360)\n",
       "  N Cells:    269524\n",
       "  N Points:   134764\n",
       "  N Strips:   0\n",
       "  X Bounds:   -5.114e+01, 5.025e+01\n",
       "  Y Bounds:   -5.103e+01, 5.032e+01\n",
       "  Z Bounds:   -5.139e+01, 5.030e+01\n",
       "  N Arrays:   1"
      ]
     },
     "execution_count": 11,
     "metadata": {},
     "output_type": "execute_result"
    }
   ],
   "source": [
    "target_reduction = 0.90\n",
    "print(f\"Reducing {target_reduction * 100.0} percent out of the original mesh\")\n",
    "pro_decimated = lunar_dem_sphere.decimate_pro(target_reduction, preserve_topology=True)\n",
    "pro_decimated"
   ]
  },
  {
   "cell_type": "markdown",
   "metadata": {},
   "source": [
    "| | N Cells | N Points |\n",
    "| ---- | ----: | ----: |\n",
    "| decimated | 206784 | 103445 |\n",
    "| pro_decimated | 269524 | 134764 |\n",
    "\n",
    "数値を見ると、両方とも同様に間引きされています。"
   ]
  },
  {
   "cell_type": "markdown",
   "metadata": {},
   "source": [
    "間引きした結果を3D表示して表面を見てみましょう。"
   ]
  },
  {
   "cell_type": "code",
   "execution_count": 12,
   "metadata": {},
   "outputs": [
    {
     "data": {
      "application/vnd.jupyter.widget-view+json": {
       "model_id": "64dea1fd0b0f49c095e4bb554a600067",
       "version_major": 2,
       "version_minor": 0
      },
      "text/plain": [
       "Widget(value='<iframe src=\"http://localhost:55186/index.html?ui=P_0x301237b90_1&reconnect=auto\" class=\"pyvista…"
      ]
     },
     "metadata": {},
     "output_type": "display_data"
    }
   ],
   "source": [
    "plotter = pv.Plotter(shape=(1, 3))\n",
    "plotter.add_mesh(lunar_dem_sphere, show_edges=False, color=\"white\")\n",
    "plotter.add_title(\"Original\\nCells={}\\nPoints={}\".format(lunar_dem_sphere.n_cells, lunar_dem_sphere.n_points))\n",
    "plotter.subplot(0, 1)\n",
    "plotter.add_mesh(decimated, show_edges=False, color=\"white\")\n",
    "plotter.add_title(\"decinate()\\nCells={}\\nPoints={}\".format(decimated.n_cells, decimated.n_points))\n",
    "plotter.subplot(0, 2)\n",
    "plotter.add_mesh(pro_decimated, show_edges=False, color=\"white\")\n",
    "plotter.add_title(\"decinated_pro()\\nCells={}\\nPoints={}\".format(pro_decimated.n_cells, pro_decimated.n_points))\n",
    "plotter.show()"
   ]
  },
  {
   "cell_type": "markdown",
   "metadata": {},
   "source": [
    "3D表示をして表面を拡大してみると、decimated の方がクレーターの形が残っているように見えます。"
   ]
  },
  {
   "cell_type": "markdown",
   "metadata": {},
   "source": [
    "3Dプリントのために、厚みを指定して殻をつくります。"
   ]
  },
  {
   "cell_type": "code",
   "execution_count": 13,
   "metadata": {},
   "outputs": [],
   "source": [
    "def create_shell_from_mesh(mesh, thickness):\n",
    "    \"\"\"\n",
    "    Creates a shell from a mesh by moving points inward by the specified thickness.\n",
    "    \n",
    "    Args:\n",
    "        mesh (pv.PolyData): Input mesh\n",
    "        thickness (float): Shell thickness\n",
    "    \n",
    "    Returns:\n",
    "        pv.PolyData: Shell mesh combining outer and inner surfaces\n",
    "    \"\"\"\n",
    "    # Make copy of original mesh for inner surface\n",
    "    inner_mesh = mesh.copy()\n",
    "    \n",
    "    # Get points of inner mesh\n",
    "    points = inner_mesh.points\n",
    "    \n",
    "    # For each point, move it toward origin by thickness amount\n",
    "    for i in range(len(points)):\n",
    "        point = points[i]\n",
    "        # Calculate vector from origin to point\n",
    "        vector = point \n",
    "        # Get magnitude of vector\n",
    "        magnitude = np.linalg.norm(vector)\n",
    "        if magnitude > 0:\n",
    "            # Create unit vector\n",
    "            unit_vector = vector / magnitude\n",
    "            # Move point inward by thickness along unit vector\n",
    "            new_point = point - (unit_vector * thickness)\n",
    "            points[i] = new_point\n",
    "            \n",
    "    # Update inner mesh points\n",
    "    inner_mesh.points = points\n",
    "    \n",
    "    # Flip normals of inner mesh\n",
    "    inner_mesh.flip_normals()\n",
    "    \n",
    "    # Combine outer and inner meshes\n",
    "    shell = mesh.merge(inner_mesh)\n",
    "    \n",
    "    return shell"
   ]
  },
  {
   "cell_type": "code",
   "execution_count": 14,
   "metadata": {},
   "outputs": [
    {
     "data": {
      "application/vnd.jupyter.widget-view+json": {
       "model_id": "fb9765f4192942ec945012540f00e6dd",
       "version_major": 2,
       "version_minor": 0
      },
      "text/plain": [
       "Widget(value='<iframe src=\"http://localhost:55186/index.html?ui=P_0x3012a4aa0_2&reconnect=auto\" class=\"pyvista…"
      ]
     },
     "metadata": {},
     "output_type": "display_data"
    }
   ],
   "source": [
    "# Create shell from a mesh\n",
    "thickness = 2.0 # mm\n",
    "lunar_dem_shell = create_shell_from_mesh(decimated, thickness)\n",
    "\n",
    "# Visualize\n",
    "plotter = pv.Plotter()\n",
    "plotter.add_mesh(lunar_dem_shell, show_edges=False, color=\"white\", opacity=0.5)\n",
    "plotter.add_title(f\"Lunar Shell\\nThickness={thickness}mm\")\n",
    "plotter.show()"
   ]
  },
  {
   "cell_type": "markdown",
   "metadata": {},
   "source": [
    "STLファイルとして保存します。"
   ]
  },
  {
   "cell_type": "code",
   "execution_count": 15,
   "metadata": {},
   "outputs": [],
   "source": [
    "lunar_dem_shell.save(\"model/lunar_surface_shell.stl\")"
   ]
  }
 ],
 "metadata": {
  "kernelspec": {
   "display_name": ".venv",
   "language": "python",
   "name": "python3"
  },
  "language_info": {
   "codemirror_mode": {
    "name": "ipython",
    "version": 3
   },
   "file_extension": ".py",
   "mimetype": "text/x-python",
   "name": "python",
   "nbconvert_exporter": "python",
   "pygments_lexer": "ipython3",
   "version": "3.12.8"
  }
 },
 "nbformat": 4,
 "nbformat_minor": 2
}
